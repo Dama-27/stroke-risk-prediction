{
 "cells": [
  {
   "cell_type": "code",
   "execution_count": 1,
   "id": "b6f099c0-2542-48cb-bb8d-dcca04e39fd0",
   "metadata": {},
   "outputs": [],
   "source": [
    "import numpy as np\n",
    "import pandas as pd\n",
    "\n",
    "data_full=pd.read_csv('healthcare-dataset-stroke-data.csv')\n",
    "data = data_full.copy()"
   ]
  },
  {
   "cell_type": "code",
   "execution_count": 2,
   "id": "233496c5-2136-4579-b44f-f386798cc641",
   "metadata": {},
   "outputs": [
    {
     "data": {
      "text/html": [
       "<div>\n",
       "<style scoped>\n",
       "    .dataframe tbody tr th:only-of-type {\n",
       "        vertical-align: middle;\n",
       "    }\n",
       "\n",
       "    .dataframe tbody tr th {\n",
       "        vertical-align: top;\n",
       "    }\n",
       "\n",
       "    .dataframe thead th {\n",
       "        text-align: right;\n",
       "    }\n",
       "</style>\n",
       "<table border=\"1\" class=\"dataframe\">\n",
       "  <thead>\n",
       "    <tr style=\"text-align: right;\">\n",
       "      <th></th>\n",
       "      <th>id</th>\n",
       "      <th>gender</th>\n",
       "      <th>age</th>\n",
       "      <th>hypertension</th>\n",
       "      <th>heart_disease</th>\n",
       "      <th>ever_married</th>\n",
       "      <th>work_type</th>\n",
       "      <th>Residence_type</th>\n",
       "      <th>avg_glucose_level</th>\n",
       "      <th>bmi</th>\n",
       "      <th>smoking_status</th>\n",
       "      <th>stroke</th>\n",
       "    </tr>\n",
       "  </thead>\n",
       "  <tbody>\n",
       "    <tr>\n",
       "      <th>0</th>\n",
       "      <td>9046</td>\n",
       "      <td>Male</td>\n",
       "      <td>67.0</td>\n",
       "      <td>0</td>\n",
       "      <td>1</td>\n",
       "      <td>Yes</td>\n",
       "      <td>Private</td>\n",
       "      <td>Urban</td>\n",
       "      <td>228.69</td>\n",
       "      <td>36.6</td>\n",
       "      <td>formerly smoked</td>\n",
       "      <td>1</td>\n",
       "    </tr>\n",
       "    <tr>\n",
       "      <th>1</th>\n",
       "      <td>51676</td>\n",
       "      <td>Female</td>\n",
       "      <td>61.0</td>\n",
       "      <td>0</td>\n",
       "      <td>0</td>\n",
       "      <td>Yes</td>\n",
       "      <td>Self-employed</td>\n",
       "      <td>Rural</td>\n",
       "      <td>202.21</td>\n",
       "      <td>NaN</td>\n",
       "      <td>never smoked</td>\n",
       "      <td>1</td>\n",
       "    </tr>\n",
       "    <tr>\n",
       "      <th>2</th>\n",
       "      <td>31112</td>\n",
       "      <td>Male</td>\n",
       "      <td>80.0</td>\n",
       "      <td>0</td>\n",
       "      <td>1</td>\n",
       "      <td>Yes</td>\n",
       "      <td>Private</td>\n",
       "      <td>Rural</td>\n",
       "      <td>105.92</td>\n",
       "      <td>32.5</td>\n",
       "      <td>never smoked</td>\n",
       "      <td>1</td>\n",
       "    </tr>\n",
       "    <tr>\n",
       "      <th>3</th>\n",
       "      <td>60182</td>\n",
       "      <td>Female</td>\n",
       "      <td>49.0</td>\n",
       "      <td>0</td>\n",
       "      <td>0</td>\n",
       "      <td>Yes</td>\n",
       "      <td>Private</td>\n",
       "      <td>Urban</td>\n",
       "      <td>171.23</td>\n",
       "      <td>34.4</td>\n",
       "      <td>smokes</td>\n",
       "      <td>1</td>\n",
       "    </tr>\n",
       "    <tr>\n",
       "      <th>4</th>\n",
       "      <td>1665</td>\n",
       "      <td>Female</td>\n",
       "      <td>79.0</td>\n",
       "      <td>1</td>\n",
       "      <td>0</td>\n",
       "      <td>Yes</td>\n",
       "      <td>Self-employed</td>\n",
       "      <td>Rural</td>\n",
       "      <td>174.12</td>\n",
       "      <td>24.0</td>\n",
       "      <td>never smoked</td>\n",
       "      <td>1</td>\n",
       "    </tr>\n",
       "  </tbody>\n",
       "</table>\n",
       "</div>"
      ],
      "text/plain": [
       "      id  gender   age  hypertension  heart_disease ever_married  \\\n",
       "0   9046    Male  67.0             0              1          Yes   \n",
       "1  51676  Female  61.0             0              0          Yes   \n",
       "2  31112    Male  80.0             0              1          Yes   \n",
       "3  60182  Female  49.0             0              0          Yes   \n",
       "4   1665  Female  79.0             1              0          Yes   \n",
       "\n",
       "       work_type Residence_type  avg_glucose_level   bmi   smoking_status  \\\n",
       "0        Private          Urban             228.69  36.6  formerly smoked   \n",
       "1  Self-employed          Rural             202.21   NaN     never smoked   \n",
       "2        Private          Rural             105.92  32.5     never smoked   \n",
       "3        Private          Urban             171.23  34.4           smokes   \n",
       "4  Self-employed          Rural             174.12  24.0     never smoked   \n",
       "\n",
       "   stroke  \n",
       "0       1  \n",
       "1       1  \n",
       "2       1  \n",
       "3       1  \n",
       "4       1  "
      ]
     },
     "execution_count": 2,
     "metadata": {},
     "output_type": "execute_result"
    }
   ],
   "source": [
    "data.head()"
   ]
  },
  {
   "cell_type": "code",
   "execution_count": 3,
   "id": "95f4bfb6-cf83-4326-b6c9-15edfdceb20e",
   "metadata": {},
   "outputs": [
    {
     "name": "stdout",
     "output_type": "stream",
     "text": [
      "<class 'pandas.core.frame.DataFrame'>\n",
      "RangeIndex: 5110 entries, 0 to 5109\n",
      "Data columns (total 12 columns):\n",
      " #   Column             Non-Null Count  Dtype  \n",
      "---  ------             --------------  -----  \n",
      " 0   id                 5110 non-null   int64  \n",
      " 1   gender             5110 non-null   object \n",
      " 2   age                5110 non-null   float64\n",
      " 3   hypertension       5110 non-null   int64  \n",
      " 4   heart_disease      5110 non-null   int64  \n",
      " 5   ever_married       5110 non-null   object \n",
      " 6   work_type          5110 non-null   object \n",
      " 7   Residence_type     5110 non-null   object \n",
      " 8   avg_glucose_level  5110 non-null   float64\n",
      " 9   bmi                4909 non-null   float64\n",
      " 10  smoking_status     5110 non-null   object \n",
      " 11  stroke             5110 non-null   int64  \n",
      "dtypes: float64(3), int64(4), object(5)\n",
      "memory usage: 479.2+ KB\n"
     ]
    }
   ],
   "source": [
    "data.info()"
   ]
  },
  {
   "cell_type": "code",
   "execution_count": 4,
   "id": "1728d986-b985-40f1-9b60-50f07dd20159",
   "metadata": {},
   "outputs": [
    {
     "name": "stdout",
     "output_type": "stream",
     "text": [
      "id                     0\n",
      "gender                 0\n",
      "age                    0\n",
      "hypertension           0\n",
      "heart_disease          0\n",
      "ever_married           0\n",
      "work_type              0\n",
      "Residence_type         0\n",
      "avg_glucose_level      0\n",
      "bmi                  201\n",
      "smoking_status         0\n",
      "stroke                 0\n",
      "dtype: int64\n"
     ]
    }
   ],
   "source": [
    "print(data.isnull().sum())"
   ]
  },
  {
   "cell_type": "markdown",
   "id": "5a7bc8d6-11bc-4cab-91df-e47e6c0de0ca",
   "metadata": {},
   "source": [
    "# Handling Missing Values"
   ]
  },
  {
   "cell_type": "code",
   "execution_count": 5,
   "id": "9225eadc-5292-439b-8cdc-47a0fa195546",
   "metadata": {},
   "outputs": [
    {
     "name": "stdout",
     "output_type": "stream",
     "text": [
      "Median BMI for stroke=0: 28.0\n",
      "Median BMI for stroke=1: 29.7\n"
     ]
    }
   ],
   "source": [
    "# Impute BMI for stroke = 0\n",
    "data.loc[data['stroke'] == 0, 'bmi'] = data.loc[data['stroke'] == 0, 'bmi'].fillna(\n",
    "    data.loc[data['stroke'] == 0, 'bmi'].median()\n",
    ")\n",
    "\n",
    "# Impute BMI for stroke = 1\n",
    "data.loc[data['stroke'] == 1, 'bmi'] = data.loc[data['stroke'] == 1, 'bmi'].fillna(\n",
    "    data.loc[data['stroke'] == 1, 'bmi'].median()\n",
    ")\n",
    "\n",
    "print(\"Median BMI for stroke=0:\", data.loc[data['stroke'] == 0, 'bmi'].median())\n",
    "print(\"Median BMI for stroke=1:\", data.loc[data['stroke'] == 1, 'bmi'].median())"
   ]
  },
  {
   "cell_type": "code",
   "execution_count": 6,
   "id": "6531945e-8e91-4053-aa57-6aa93010552a",
   "metadata": {},
   "outputs": [
    {
     "name": "stdout",
     "output_type": "stream",
     "text": [
      "id                   0\n",
      "gender               0\n",
      "age                  0\n",
      "hypertension         0\n",
      "heart_disease        0\n",
      "ever_married         0\n",
      "work_type            0\n",
      "Residence_type       0\n",
      "avg_glucose_level    0\n",
      "bmi                  0\n",
      "smoking_status       0\n",
      "stroke               0\n",
      "dtype: int64\n"
     ]
    }
   ],
   "source": [
    "print(data.isnull().sum())"
   ]
  },
  {
   "cell_type": "markdown",
   "id": "5e971979-93d9-4acb-ab73-75ed2427d28d",
   "metadata": {},
   "source": [
    "# Data sanitization"
   ]
  },
  {
   "cell_type": "code",
   "execution_count": 7,
   "id": "367cdf39-b104-40dc-a463-266d6b6eef68",
   "metadata": {},
   "outputs": [
    {
     "data": {
      "text/html": [
       "<div>\n",
       "<style scoped>\n",
       "    .dataframe tbody tr th:only-of-type {\n",
       "        vertical-align: middle;\n",
       "    }\n",
       "\n",
       "    .dataframe tbody tr th {\n",
       "        vertical-align: top;\n",
       "    }\n",
       "\n",
       "    .dataframe thead th {\n",
       "        text-align: right;\n",
       "    }\n",
       "</style>\n",
       "<table border=\"1\" class=\"dataframe\">\n",
       "  <thead>\n",
       "    <tr style=\"text-align: right;\">\n",
       "      <th></th>\n",
       "      <th>id</th>\n",
       "      <th>gender</th>\n",
       "      <th>age</th>\n",
       "      <th>hypertension</th>\n",
       "      <th>heart_disease</th>\n",
       "      <th>ever_married</th>\n",
       "      <th>work_type</th>\n",
       "      <th>Residence_type</th>\n",
       "      <th>avg_glucose_level</th>\n",
       "      <th>bmi</th>\n",
       "      <th>smoking_status</th>\n",
       "      <th>stroke</th>\n",
       "    </tr>\n",
       "  </thead>\n",
       "  <tbody>\n",
       "    <tr>\n",
       "      <th>3116</th>\n",
       "      <td>56156</td>\n",
       "      <td>Other</td>\n",
       "      <td>26.0</td>\n",
       "      <td>0</td>\n",
       "      <td>0</td>\n",
       "      <td>No</td>\n",
       "      <td>Private</td>\n",
       "      <td>Rural</td>\n",
       "      <td>143.33</td>\n",
       "      <td>22.4</td>\n",
       "      <td>formerly smoked</td>\n",
       "      <td>0</td>\n",
       "    </tr>\n",
       "  </tbody>\n",
       "</table>\n",
       "</div>"
      ],
      "text/plain": [
       "         id gender   age  hypertension  heart_disease ever_married work_type  \\\n",
       "3116  56156  Other  26.0             0              0           No   Private   \n",
       "\n",
       "     Residence_type  avg_glucose_level   bmi   smoking_status  stroke  \n",
       "3116          Rural             143.33  22.4  formerly smoked       0  "
      ]
     },
     "execution_count": 7,
     "metadata": {},
     "output_type": "execute_result"
    }
   ],
   "source": [
    "data.loc[(data['gender'] != 'Female') & (data['gender'] != 'Male')]"
   ]
  },
  {
   "cell_type": "code",
   "execution_count": 8,
   "id": "f7f8cd97-8ed8-4784-8e49-c85fa38dc766",
   "metadata": {},
   "outputs": [],
   "source": [
    "# delete the problematic row\n",
    "data = data[(data['gender'] == 'Male') | (data['gender'] == 'Female')]\n",
    "data = data.reset_index(drop=True)"
   ]
  },
  {
   "cell_type": "code",
   "execution_count": 9,
   "id": "21912af9-bc54-414a-a5d7-6c2d0c7fc66a",
   "metadata": {},
   "outputs": [
    {
     "name": "stdout",
     "output_type": "stream",
     "text": [
      "Unique values in 'gender':\n",
      "['Male' 'Female']\n",
      "----------------------------------------\n",
      "Unique values in 'hypertension':\n",
      "[0 1]\n",
      "----------------------------------------\n",
      "Unique values in 'heart_disease':\n",
      "[1 0]\n",
      "----------------------------------------\n",
      "Unique values in 'ever_married':\n",
      "['Yes' 'No']\n",
      "----------------------------------------\n",
      "Unique values in 'work_type':\n",
      "['Private' 'Self-employed' 'Govt_job' 'children' 'Never_worked']\n",
      "----------------------------------------\n",
      "Unique values in 'Residence_type':\n",
      "['Urban' 'Rural']\n",
      "----------------------------------------\n",
      "Unique values in 'smoking_status':\n",
      "['formerly smoked' 'never smoked' 'smokes' 'Unknown']\n",
      "----------------------------------------\n"
     ]
    }
   ],
   "source": [
    "# Create a data backup the following steps\n",
    "data_backup = data.copy() \n",
    "\n",
    "# Checking for unique values\n",
    "data = data.drop(['id', 'stroke','age', 'avg_glucose_level', 'bmi'], axis=1)\n",
    "for col in data.columns:\n",
    "    print(f\"Unique values in '{col}':\")\n",
    "    print(data[col].unique())\n",
    "    print(\"-\" * 40)\n"
   ]
  },
  {
   "cell_type": "markdown",
   "id": "1aa4dc87-0a44-48c4-8c74-4935621c69a9",
   "metadata": {},
   "source": [
    "# Categorical Encoding"
   ]
  },
  {
   "cell_type": "code",
   "execution_count": 10,
   "id": "627b36f4-4bc3-47e7-aa50-23baffb6250b",
   "metadata": {},
   "outputs": [],
   "source": [
    "from sklearn.preprocessing import LabelEncoder\n",
    "\n",
    "# Restore dropped columns from backup\n",
    "data = data_backup.copy()\n",
    "\n",
    "# Drop only the target and id\n",
    "data = data.drop(['id', 'stroke'], axis=1)\n",
    "\n",
    "le = LabelEncoder()\n",
    "data['gender'] = le.fit_transform(data['gender']) \n",
    "data['ever_married'] = le.fit_transform(data['ever_married'])  \n",
    "data['Residence_type'] = le.fit_transform(data['Residence_type'])  \n",
    "\n",
    "# One-hot encoding for multiclass features\n",
    "data = pd.get_dummies(data, columns=['work_type', 'smoking_status'], drop_first=True)\n"
   ]
  },
  {
   "cell_type": "code",
   "execution_count": 11,
   "id": "6d310c86-41fd-4d87-a2a0-da584c0b87a5",
   "metadata": {},
   "outputs": [
    {
     "name": "stdout",
     "output_type": "stream",
     "text": [
      "Index(['gender', 'age', 'hypertension', 'heart_disease', 'ever_married',\n",
      "       'Residence_type', 'avg_glucose_level', 'bmi', 'work_type_Never_worked',\n",
      "       'work_type_Private', 'work_type_Self-employed', 'work_type_children',\n",
      "       'smoking_status_formerly smoked', 'smoking_status_never smoked',\n",
      "       'smoking_status_smokes'],\n",
      "      dtype='object')\n",
      "   gender   age  hypertension  heart_disease  ever_married  Residence_type  \\\n",
      "0       1  67.0             0              1             1               1   \n",
      "1       0  61.0             0              0             1               0   \n",
      "2       1  80.0             0              1             1               0   \n",
      "3       0  49.0             0              0             1               1   \n",
      "4       0  79.0             1              0             1               0   \n",
      "\n",
      "   avg_glucose_level   bmi  work_type_Never_worked  work_type_Private  \\\n",
      "0             228.69  36.6                   False               True   \n",
      "1             202.21  29.7                   False              False   \n",
      "2             105.92  32.5                   False               True   \n",
      "3             171.23  34.4                   False               True   \n",
      "4             174.12  24.0                   False              False   \n",
      "\n",
      "   work_type_Self-employed  work_type_children  \\\n",
      "0                    False               False   \n",
      "1                     True               False   \n",
      "2                    False               False   \n",
      "3                    False               False   \n",
      "4                     True               False   \n",
      "\n",
      "   smoking_status_formerly smoked  smoking_status_never smoked  \\\n",
      "0                            True                        False   \n",
      "1                           False                         True   \n",
      "2                           False                         True   \n",
      "3                           False                        False   \n",
      "4                           False                         True   \n",
      "\n",
      "   smoking_status_smokes  \n",
      "0                  False  \n",
      "1                  False  \n",
      "2                  False  \n",
      "3                   True  \n",
      "4                  False  \n"
     ]
    }
   ],
   "source": [
    "# check data after encoding\n",
    "print(data.columns)\n",
    "print(data.head())"
   ]
  },
  {
   "cell_type": "markdown",
   "id": "a4fb824b-7074-4789-b86b-8d3ff8ed5c63",
   "metadata": {},
   "source": [
    "# Scaling/Normalization"
   ]
  },
  {
   "cell_type": "code",
   "execution_count": 12,
   "id": "26c6525d-e3ac-449e-89d6-9626eba45618",
   "metadata": {},
   "outputs": [
    {
     "name": "stdout",
     "output_type": "stream",
     "text": [
      "                age  avg_glucose_level           bmi\n",
      "count  5.109000e+03       5.109000e+03  5.109000e+03\n",
      "mean   7.231987e-17      -1.613289e-16  8.900907e-17\n",
      "std    1.000098e+00       1.000098e+00  1.000098e+00\n",
      "min   -1.908332e+00      -1.126761e+00 -2.412218e+00\n",
      "25%   -8.062312e-01      -6.382516e-01 -6.588388e-01\n",
      "50%    7.827984e-02      -3.149342e-01 -1.133431e-01\n",
      "75%    7.858887e-01       1.755632e-01  5.100807e-01\n",
      "max    1.714625e+00       3.657189e+00  8.926301e+00\n"
     ]
    }
   ],
   "source": [
    "from sklearn.preprocessing import StandardScaler\n",
    "\n",
    "scaler = StandardScaler()\n",
    "data[['age', 'avg_glucose_level', 'bmi']] = scaler.fit_transform(data[['age', 'avg_glucose_level', 'bmi']])\n",
    "\n",
    "print(data[['age', 'avg_glucose_level', 'bmi']].describe())"
   ]
  },
  {
   "cell_type": "code",
   "execution_count": 13,
   "id": "b6d31114-dd4f-4491-9372-b4f572fddfb2",
   "metadata": {},
   "outputs": [
    {
     "name": "stdout",
     "output_type": "stream",
     "text": [
      "Index(['gender', 'age', 'hypertension', 'heart_disease', 'ever_married',\n",
      "       'Residence_type', 'avg_glucose_level', 'bmi', 'work_type_Never_worked',\n",
      "       'work_type_Private', 'work_type_Self-employed', 'work_type_children',\n",
      "       'smoking_status_formerly smoked', 'smoking_status_never smoked',\n",
      "       'smoking_status_smokes'],\n",
      "      dtype='object')\n",
      "   gender       age  hypertension  heart_disease  ever_married  \\\n",
      "0       1  1.051242             0              1             1   \n",
      "1       0  0.785889             0              0             1   \n",
      "2       1  1.626174             0              1             1   \n",
      "3       0  0.255182             0              0             1   \n",
      "4       0  1.581949             1              0             1   \n",
      "\n",
      "   Residence_type  avg_glucose_level       bmi  work_type_Never_worked  \\\n",
      "0               1           2.706450  1.003624                   False   \n",
      "1               0           2.121652  0.107453                   False   \n",
      "2               0          -0.004867  0.471117                   False   \n",
      "3               1           1.437473  0.717889                   False   \n",
      "4               0           1.501297 -0.632863                   False   \n",
      "\n",
      "   work_type_Private  work_type_Self-employed  work_type_children  \\\n",
      "0               True                    False               False   \n",
      "1              False                     True               False   \n",
      "2               True                    False               False   \n",
      "3               True                    False               False   \n",
      "4              False                     True               False   \n",
      "\n",
      "   smoking_status_formerly smoked  smoking_status_never smoked  \\\n",
      "0                            True                        False   \n",
      "1                           False                         True   \n",
      "2                           False                         True   \n",
      "3                           False                        False   \n",
      "4                           False                         True   \n",
      "\n",
      "   smoking_status_smokes  \n",
      "0                  False  \n",
      "1                  False  \n",
      "2                  False  \n",
      "3                   True  \n",
      "4                  False  \n"
     ]
    }
   ],
   "source": [
    "# Check data after Scaling\n",
    "print(data.columns)\n",
    "print(data.head())"
   ]
  },
  {
   "cell_type": "code",
   "execution_count": 14,
   "id": "09dfe5bb-c51d-4acf-a630-4964c4f534b1",
   "metadata": {},
   "outputs": [],
   "source": [
    "X = data \n",
    "y = data_backup['stroke']\n"
   ]
  },
  {
   "cell_type": "code",
   "execution_count": 15,
   "id": "e39fd9f4-ae75-43dd-87a1-3a815e7448f7",
   "metadata": {},
   "outputs": [],
   "source": [
    "X.to_csv(\"X_preprocessed.csv\", index=False)\n",
    "y.to_csv(\"y_labels.csv\", index=False)"
   ]
  },
  {
   "cell_type": "code",
   "execution_count": null,
   "id": "016f680a-494d-4b3b-bc5f-86e6071a1dbd",
   "metadata": {},
   "outputs": [],
   "source": []
  }
 ],
 "metadata": {
  "kernelspec": {
   "display_name": "Python 3 (ipykernel)",
   "language": "python",
   "name": "python3"
  },
  "language_info": {
   "codemirror_mode": {
    "name": "ipython",
    "version": 3
   },
   "file_extension": ".py",
   "mimetype": "text/x-python",
   "name": "python",
   "nbconvert_exporter": "python",
   "pygments_lexer": "ipython3",
   "version": "3.12.10"
  }
 },
 "nbformat": 4,
 "nbformat_minor": 5
}
